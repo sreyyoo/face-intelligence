{
  "nbformat": 4,
  "nbformat_minor": 0,
  "metadata": {
    "colab": {
      "provenance": [],
      "gpuType": "T4"
    },
    "kernelspec": {
      "name": "python3",
      "display_name": "Python 3"
    },
    "language_info": {
      "name": "python"
    }
  },
  "cells": [
    {
      "cell_type": "markdown",
      "source": [
        "# **Gender Classification**"
      ],
      "metadata": {
        "id": "JYqxHM4xVa3E"
      }
    },
    {
      "cell_type": "code",
      "source": [
        "from google.colab import drive\n",
        "drive.mount('/content/drive')"
      ],
      "metadata": {
        "colab": {
          "base_uri": "https://localhost:8080/"
        },
        "id": "VMliDDmQBC7d",
        "outputId": "93109202-2903-4426-a956-921fe6f3a826"
      },
      "execution_count": 3,
      "outputs": [
        {
          "output_type": "stream",
          "name": "stdout",
          "text": [
            "Mounted at /content/drive\n"
          ]
        }
      ]
    },
    {
      "cell_type": "code",
      "source": [
        "!pip install efficientnet_pytorch"
      ],
      "metadata": {
        "colab": {
          "base_uri": "https://localhost:8080/"
        },
        "id": "edXFRKE7vkk1",
        "outputId": "fad86c63-7664-415e-8cae-ae2e975f5304"
      },
      "execution_count": 2,
      "outputs": [
        {
          "output_type": "stream",
          "name": "stdout",
          "text": [
            "Requirement already satisfied: efficientnet_pytorch in /usr/local/lib/python3.11/dist-packages (0.7.1)\n",
            "Requirement already satisfied: torch in /usr/local/lib/python3.11/dist-packages (from efficientnet_pytorch) (2.6.0+cu124)\n",
            "Requirement already satisfied: filelock in /usr/local/lib/python3.11/dist-packages (from torch->efficientnet_pytorch) (3.18.0)\n",
            "Requirement already satisfied: typing-extensions>=4.10.0 in /usr/local/lib/python3.11/dist-packages (from torch->efficientnet_pytorch) (4.14.0)\n",
            "Requirement already satisfied: networkx in /usr/local/lib/python3.11/dist-packages (from torch->efficientnet_pytorch) (3.5)\n",
            "Requirement already satisfied: jinja2 in /usr/local/lib/python3.11/dist-packages (from torch->efficientnet_pytorch) (3.1.6)\n",
            "Requirement already satisfied: fsspec in /usr/local/lib/python3.11/dist-packages (from torch->efficientnet_pytorch) (2025.3.2)\n",
            "Requirement already satisfied: nvidia-cuda-nvrtc-cu12==12.4.127 in /usr/local/lib/python3.11/dist-packages (from torch->efficientnet_pytorch) (12.4.127)\n",
            "Requirement already satisfied: nvidia-cuda-runtime-cu12==12.4.127 in /usr/local/lib/python3.11/dist-packages (from torch->efficientnet_pytorch) (12.4.127)\n",
            "Requirement already satisfied: nvidia-cuda-cupti-cu12==12.4.127 in /usr/local/lib/python3.11/dist-packages (from torch->efficientnet_pytorch) (12.4.127)\n",
            "Requirement already satisfied: nvidia-cudnn-cu12==9.1.0.70 in /usr/local/lib/python3.11/dist-packages (from torch->efficientnet_pytorch) (9.1.0.70)\n",
            "Requirement already satisfied: nvidia-cublas-cu12==12.4.5.8 in /usr/local/lib/python3.11/dist-packages (from torch->efficientnet_pytorch) (12.4.5.8)\n",
            "Requirement already satisfied: nvidia-cufft-cu12==11.2.1.3 in /usr/local/lib/python3.11/dist-packages (from torch->efficientnet_pytorch) (11.2.1.3)\n",
            "Requirement already satisfied: nvidia-curand-cu12==10.3.5.147 in /usr/local/lib/python3.11/dist-packages (from torch->efficientnet_pytorch) (10.3.5.147)\n",
            "Requirement already satisfied: nvidia-cusolver-cu12==11.6.1.9 in /usr/local/lib/python3.11/dist-packages (from torch->efficientnet_pytorch) (11.6.1.9)\n",
            "Requirement already satisfied: nvidia-cusparse-cu12==12.3.1.170 in /usr/local/lib/python3.11/dist-packages (from torch->efficientnet_pytorch) (12.3.1.170)\n",
            "Requirement already satisfied: nvidia-cusparselt-cu12==0.6.2 in /usr/local/lib/python3.11/dist-packages (from torch->efficientnet_pytorch) (0.6.2)\n",
            "Requirement already satisfied: nvidia-nccl-cu12==2.21.5 in /usr/local/lib/python3.11/dist-packages (from torch->efficientnet_pytorch) (2.21.5)\n",
            "Requirement already satisfied: nvidia-nvtx-cu12==12.4.127 in /usr/local/lib/python3.11/dist-packages (from torch->efficientnet_pytorch) (12.4.127)\n",
            "Requirement already satisfied: nvidia-nvjitlink-cu12==12.4.127 in /usr/local/lib/python3.11/dist-packages (from torch->efficientnet_pytorch) (12.4.127)\n",
            "Requirement already satisfied: triton==3.2.0 in /usr/local/lib/python3.11/dist-packages (from torch->efficientnet_pytorch) (3.2.0)\n",
            "Requirement already satisfied: sympy==1.13.1 in /usr/local/lib/python3.11/dist-packages (from torch->efficientnet_pytorch) (1.13.1)\n",
            "Requirement already satisfied: mpmath<1.4,>=1.1.0 in /usr/local/lib/python3.11/dist-packages (from sympy==1.13.1->torch->efficientnet_pytorch) (1.3.0)\n",
            "Requirement already satisfied: MarkupSafe>=2.0 in /usr/local/lib/python3.11/dist-packages (from jinja2->torch->efficientnet_pytorch) (3.0.2)\n"
          ]
        }
      ]
    },
    {
      "cell_type": "code",
      "source": [
        "import os\n",
        "import torch\n",
        "import torch.nn as nn\n",
        "import torch.optim as optim\n",
        "from torchvision import datasets, transforms\n",
        "from torch.utils.data import DataLoader, random_split, WeightedRandomSampler\n",
        "from sklearn.metrics import classification_report, confusion_matrix, accuracy_score\n",
        "import matplotlib.pyplot as plt\n",
        "import numpy as np\n",
        "from efficientnet_pytorch import EfficientNet\n",
        "from google.colab import drive\n",
        "import torch.nn.functional as F\n",
        "from torch.amp import autocast\n",
        "from torch.cuda.amp import GradScaler\n",
        "import pandas as pd\n",
        "from collections import Counter"
      ],
      "metadata": {
        "id": "XSqRcd523VXu"
      },
      "execution_count": 18,
      "outputs": []
    },
    {
      "cell_type": "code",
      "source": [
        "device = torch.device(\"cuda\" if torch.cuda.is_available() else \"cpu\")\n",
        "print(f\"Using device: {device}\")\n",
        "dataset_dir = '/content/drive/MyDrive/Comys_Hackathon5/Task_A'"
      ],
      "metadata": {
        "colab": {
          "base_uri": "https://localhost:8080/"
        },
        "id": "tegY7M47BMEU",
        "outputId": "045d17c0-0243-4b0a-c643-d7e972c29f9d"
      },
      "execution_count": 4,
      "outputs": [
        {
          "output_type": "stream",
          "name": "stdout",
          "text": [
            "Using device: cuda\n"
          ]
        }
      ]
    },
    {
      "cell_type": "markdown",
      "source": [
        "# **Data Augmentation**"
      ],
      "metadata": {
        "id": "mZ3dfDUVOGza"
      }
    },
    {
      "cell_type": "code",
      "source": [
        "transform = transforms.Compose([\n",
        "    transforms.Resize((380, 380)),\n",
        "    transforms.RandomHorizontalFlip(),\n",
        "    transforms.RandomRotation(15),\n",
        "    transforms.ColorJitter(brightness=0.2, contrast=0.2, saturation=0.2),\n",
        "    transforms.ToTensor(),\n",
        "    transforms.Normalize([0.5], [0.5])\n",
        "])"
      ],
      "metadata": {
        "id": "xEKUVfg7IFds"
      },
      "execution_count": 15,
      "outputs": []
    },
    {
      "cell_type": "code",
      "source": [
        "train_dataset = datasets.ImageFolder(root=os.path.join(dataset_dir, 'train'), transform=transform)\n",
        "val_dataset = datasets.ImageFolder(root=os.path.join(dataset_dir, 'val'), transform=transform)\n",
        "class_names = train_dataset.classes"
      ],
      "metadata": {
        "id": "fLp6wo8lKHbH"
      },
      "execution_count": 16,
      "outputs": []
    },
    {
      "cell_type": "code",
      "source": [
        "class_counts = Counter([label for _, label in train_dataset])\n",
        "total_samples = sum(class_counts.values())\n",
        "class_weights = [total_samples / class_counts[i] for i in range(len(class_names))]\n",
        "sample_weights = [class_weights[label] for _, label in train_dataset]\n",
        "sampler = WeightedRandomSampler(sample_weights, num_samples=len(sample_weights), replacement=True)"
      ],
      "metadata": {
        "id": "mhCL5o2wKKQl"
      },
      "execution_count": 19,
      "outputs": []
    },
    {
      "cell_type": "code",
      "source": [
        "train_loader = DataLoader(train_dataset, batch_size=32, sampler=sampler, num_workers=2)\n",
        "val_loader = DataLoader(val_dataset, batch_size=32, shuffle=False, num_workers=2)"
      ],
      "metadata": {
        "id": "Gjie_fZSKMiS"
      },
      "execution_count": 20,
      "outputs": []
    },
    {
      "cell_type": "markdown",
      "source": [
        "# **Efficientnet model**"
      ],
      "metadata": {
        "id": "O-S1IiHqNwxT"
      }
    },
    {
      "cell_type": "code",
      "source": [
        "class EfficientNetB4Classifier(nn.Module):\n",
        "    def __init__(self, num_classes):\n",
        "        super(EfficientNetB4Classifier, self).__init__()\n",
        "        self.effnet = EfficientNet.from_pretrained('efficientnet-b4')\n",
        "        self.pool = nn.AdaptiveAvgPool2d(1)\n",
        "        self.classifier = nn.Sequential(\n",
        "            nn.Dropout(0.5),\n",
        "            nn.Linear(1792, num_classes)\n",
        "        )\n",
        "\n",
        "    def forward(self, x):\n",
        "        x = self.effnet.extract_features(x)\n",
        "        x = self.pool(x).squeeze(-1).squeeze(-1)\n",
        "        return self.classifier(x)\n"
      ],
      "metadata": {
        "id": "YiRQ679oKWwR"
      },
      "execution_count": 21,
      "outputs": []
    },
    {
      "cell_type": "code",
      "source": [
        "model = EfficientNetB4Classifier(num_classes=len(class_names)).to(device)"
      ],
      "metadata": {
        "colab": {
          "base_uri": "https://localhost:8080/"
        },
        "id": "Gk3OiG1NKosn",
        "outputId": "626dd49e-f24e-489e-b902-217c06d9c703"
      },
      "execution_count": 22,
      "outputs": [
        {
          "output_type": "stream",
          "name": "stdout",
          "text": [
            "Loaded pretrained weights for efficientnet-b4\n"
          ]
        }
      ]
    },
    {
      "cell_type": "code",
      "source": [
        "class_weights_tensor = torch.tensor(class_weights, dtype=torch.float).to(device)\n",
        "criterion = nn.CrossEntropyLoss(weight=class_weights_tensor)\n",
        "\n",
        "optimizer = optim.AdamW(model.parameters(), lr=3e-4, weight_decay=1e-4)\n",
        "scheduler = optim.lr_scheduler.CosineAnnealingLR(optimizer, T_max=10)\n",
        "scaler = GradScaler()"
      ],
      "metadata": {
        "id": "inoc4kmsKqpc"
      },
      "execution_count": 23,
      "outputs": []
    },
    {
      "cell_type": "markdown",
      "source": [
        "# **Training**"
      ],
      "metadata": {
        "id": "fVHDlYeQNqxK"
      }
    },
    {
      "cell_type": "code",
      "source": [
        "num_epochs = 30\n",
        "train_losses, val_losses = [], []\n",
        "train_accuracies, val_accuracies = [], []\n",
        "best_val_loss = float('inf')\n",
        "early_stop_counter = 0\n",
        "PATIENCE = 5\n",
        "\n",
        "for epoch in range(num_epochs):\n",
        "    model.train()\n",
        "    total_loss, correct, total = 0.0, 0, 0\n",
        "    for images, labels in train_loader:\n",
        "        images, labels = images.to(device), labels.to(device)\n",
        "        optimizer.zero_grad()\n",
        "        with autocast(device_type='cuda' if torch.cuda.is_available() else 'cpu'):\n",
        "            outputs = model(images)\n",
        "            loss = criterion(outputs, labels)\n",
        "        scaler.scale(loss).backward()\n",
        "        scaler.step(optimizer)\n",
        "        scaler.update()\n",
        "\n",
        "        total_loss += loss.item()\n",
        "        _, preds = torch.max(outputs, 1)\n",
        "        correct += (preds == labels).sum().item()\n",
        "        total += labels.size(0)\n",
        "\n",
        "    train_losses.append(total_loss / len(train_loader))\n",
        "    train_accuracies.append(correct / total)\n",
        "\n",
        "    # Validation\n",
        "    model.eval()\n",
        "    val_loss, val_correct, val_total = 0.0, 0, 0\n",
        "    with torch.no_grad():\n",
        "        for images, labels in val_loader:\n",
        "            images, labels = images.to(device), labels.to(device)\n",
        "            with autocast(device_type='cuda' if torch.cuda.is_available() else 'cpu'):\n",
        "                outputs = model(images)\n",
        "                loss = criterion(outputs, labels)\n",
        "            val_loss += loss.item()\n",
        "            _, preds = torch.max(outputs, 1)\n",
        "            val_correct += (preds == labels).sum().item()\n",
        "            val_total += labels.size(0)\n",
        "\n",
        "    val_losses.append(val_loss / len(val_loader))\n",
        "    val_accuracies.append(val_correct / val_total)\n",
        "    scheduler.step()\n",
        "\n",
        "    print(f\"Epoch {epoch+1}/{num_epochs}, Train Loss: {train_losses[-1]:.4f}, Train Acc: {train_accuracies[-1]:.4f}, Val Loss: {val_losses[-1]:.4f}, Val Acc: {val_accuracies[-1]:.4f}\")\n",
        "\n",
        "    if val_losses[-1] < best_val_loss:\n",
        "        best_val_loss = val_losses[-1]\n",
        "        torch.save(model.state_dict(), \"/content/drive/MyDrive/Comys_Hackathon5/Task_A/best_model.pth\")\n",
        "        early_stop_counter = 0\n",
        "    else:\n",
        "        early_stop_counter += 1\n",
        "        if early_stop_counter >= PATIENCE:\n",
        "            print(\"Early stopping triggered.\")\n",
        "            break"
      ],
      "metadata": {
        "colab": {
          "base_uri": "https://localhost:8080/"
        },
        "id": "4c6D8BIjKtOc",
        "outputId": "8dc0efd5-b67b-4967-ace1-a25a56ccd9ba"
      },
      "execution_count": 25,
      "outputs": [
        {
          "output_type": "stream",
          "name": "stdout",
          "text": [
            "Epoch 1/30, Train Loss: 0.1137, Train Acc: 0.9268, Val Loss: 0.3998, Val Acc: 0.8697\n",
            "Epoch 2/30, Train Loss: 0.1045, Train Acc: 0.9626, Val Loss: 0.2680, Val Acc: 0.9313\n",
            "Epoch 3/30, Train Loss: 0.0575, Train Acc: 0.9621, Val Loss: 0.2492, Val Acc: 0.9336\n",
            "Epoch 4/30, Train Loss: 0.0365, Train Acc: 0.9803, Val Loss: 0.2518, Val Acc: 0.9171\n",
            "Epoch 5/30, Train Loss: 0.0281, Train Acc: 0.9798, Val Loss: 0.2456, Val Acc: 0.9360\n",
            "Epoch 6/30, Train Loss: 0.0214, Train Acc: 0.9927, Val Loss: 0.2387, Val Acc: 0.9218\n",
            "Epoch 7/30, Train Loss: 0.0168, Train Acc: 0.9943, Val Loss: 0.2402, Val Acc: 0.9313\n",
            "Epoch 8/30, Train Loss: 0.0128, Train Acc: 0.9927, Val Loss: 0.2490, Val Acc: 0.9194\n",
            "Epoch 9/30, Train Loss: 0.0125, Train Acc: 0.9943, Val Loss: 0.2078, Val Acc: 0.9289\n",
            "Epoch 10/30, Train Loss: 0.0062, Train Acc: 0.9958, Val Loss: 0.2041, Val Acc: 0.9265\n",
            "Epoch 11/30, Train Loss: 0.0099, Train Acc: 0.9938, Val Loss: 0.2380, Val Acc: 0.9147\n",
            "Epoch 12/30, Train Loss: 0.0047, Train Acc: 0.9974, Val Loss: 0.2096, Val Acc: 0.9218\n",
            "Epoch 13/30, Train Loss: 0.0075, Train Acc: 0.9964, Val Loss: 0.2458, Val Acc: 0.9194\n",
            "Epoch 14/30, Train Loss: 0.0035, Train Acc: 0.9984, Val Loss: 0.2543, Val Acc: 0.9265\n",
            "Epoch 15/30, Train Loss: 0.0046, Train Acc: 0.9974, Val Loss: 0.2712, Val Acc: 0.9171\n",
            "Early stopping triggered.\n"
          ]
        }
      ]
    },
    {
      "cell_type": "markdown",
      "source": [
        "# **Train and Val graph**"
      ],
      "metadata": {
        "id": "d0Usv1m3NkRw"
      }
    },
    {
      "cell_type": "code",
      "source": [
        "plt.plot(train_losses, label='Train Loss')\n",
        "plt.plot(val_losses, label='Val Loss')\n",
        "plt.title(\"Loss Curve\")\n",
        "plt.legend()\n",
        "plt.show()\n",
        "\n",
        "plt.plot(train_accuracies, label='Train Acc')\n",
        "plt.plot(val_accuracies, label='Val Acc')\n",
        "plt.title(\"Accuracy Curve\")\n",
        "plt.legend()\n",
        "plt.show()\n"
      ],
      "metadata": {
        "colab": {
          "base_uri": "https://localhost:8080/",
          "height": 887
        },
        "id": "_-v-hW0BKwpF",
        "outputId": "01b11087-6d54-40a0-9a84-eee9e08a9b40"
      },
      "execution_count": 26,
      "outputs": [
        {
          "output_type": "display_data",
          "data": {
            "text/plain": [
              "<Figure size 640x480 with 1 Axes>"
            ],
            "image/png": "[encoded data removed]"
          },
          "metadata": {}
        },
        {
          "output_type": "display_data",
          "data": {
            "text/plain": [
              "<Figure size 640x480 with 1 Axes>"
            ],
            "image/png": "[encoded data removed]"
          },
          "metadata": {}
        }
      ]
    },
    {
      "cell_type": "markdown",
      "source": [
        "# **Confusion matrix**"
      ],
      "metadata": {
        "id": "IwYKB83KNcLm"
      }
    },
    {
      "cell_type": "code",
      "source": [
        "model.load_state_dict(torch.load(\"/content/drive/MyDrive/Comys_Hackathon5/Task_A/best_model.pth\"))\n",
        "model.eval()\n",
        "all_preds, all_labels = [], []\n",
        "with torch.no_grad():\n",
        "    for images, labels in val_loader:\n",
        "        images = images.to(device)\n",
        "        outputs = model(images)\n",
        "        _, preds = torch.max(outputs, 1)\n",
        "        all_preds.extend(preds.cpu().numpy())\n",
        "        all_labels.extend(labels.numpy())\n",
        "\n",
        "print(\"Classification Report:\")\n",
        "print(classification_report(all_labels, all_preds, target_names=class_names))\n",
        "\n",
        "cm = confusion_matrix(all_labels, all_preds)\n",
        "plt.imshow(cm, cmap='Blues')\n",
        "plt.title(\"Confusion Matrix\")\n",
        "plt.colorbar()\n",
        "plt.xticks(np.arange(len(class_names)), class_names, rotation=45)\n",
        "plt.yticks(np.arange(len(class_names)), class_names)\n",
        "plt.xlabel(\"Predicted\")\n",
        "plt.ylabel(\"True\")\n",
        "plt.tight_layout()\n",
        "plt.show()\n"
      ],
      "metadata": {
        "colab": {
          "base_uri": "https://localhost:8080/",
          "height": 661
        },
        "id": "3eaFivDYSNSJ",
        "outputId": "5f280eb6-ebed-4e20-c3ae-ca4a1b31c461"
      },
      "execution_count": 28,
      "outputs": [
        {
          "output_type": "stream",
          "name": "stdout",
          "text": [
            "Classification Report:\n",
            "              precision    recall  f1-score   support\n",
            "\n",
            "      female       0.82      0.81      0.82        79\n",
            "        male       0.96      0.96      0.96       343\n",
            "\n",
            "    accuracy                           0.93       422\n",
            "   macro avg       0.89      0.88      0.89       422\n",
            "weighted avg       0.93      0.93      0.93       422\n",
            "\n"
          ]
        },
        {
          "output_type": "display_data",
          "data": {
            "text/plain": [
              "<Figure size 640x480 with 2 Axes>"
            ],
            "image/png": "[encoded data removed]"
          },
          "metadata": {}
        }
      ]
    },
    {
      "cell_type": "markdown",
      "source": [
        "\n",
        "\n",
        "# **CSV file**\n",
        "\n"
      ],
      "metadata": {
        "id": "vP6iyidONMQ3"
      }
    },
    {
      "cell_type": "code",
      "source": [
        "pred_df = pd.DataFrame({\n",
        "    \"true\": [class_names[i] for i in all_labels],\n",
        "    \"pred\": [class_names[i] for i in all_preds]\n",
        "})\n",
        "pred_df.to_csv(\"/content/drive/MyDrive/Comys_Hackathon5/Task_A/val_predictions.csv\", index=False)\n",
        "print(\"Saved predictions to CSV.\")"
      ],
      "metadata": {
        "colab": {
          "base_uri": "https://localhost:8080/"
        },
        "id": "FQYnMe0KSRFG",
        "outputId": "200051a0-1e4a-49a6-eb3b-c80083f3c9dc"
      },
      "execution_count": 29,
      "outputs": [
        {
          "output_type": "stream",
          "name": "stdout",
          "text": [
            "Saved predictions to CSV.\n"
          ]
        }
      ]
    },
    {
      "cell_type": "markdown",
      "source": [
        "\n",
        "\n",
        "```\n",
        "val Accuracy\n",
        "```\n",
        "\n"
      ],
      "metadata": {
        "id": "Tc2Wko8zNAnH"
      }
    },
    {
      "cell_type": "code",
      "source": [
        "acc = accuracy_score(all_labels, all_preds)\n",
        "print(f\"Final Validation Accuracy: {acc*100:.2f}%\")\n"
      ],
      "metadata": {
        "colab": {
          "base_uri": "https://localhost:8080/"
        },
        "id": "Zn-Ais4xTO_c",
        "outputId": "9c16fd7f-ac01-4623-f6f9-0830e80fe86b"
      },
      "execution_count": 30,
      "outputs": [
        {
          "output_type": "stream",
          "name": "stdout",
          "text": [
            "Final Validation Accuracy: 93.13%\n"
          ]
        }
      ]
    },
    {
      "cell_type": "markdown",
      "source": [
        "# **Test evaluation script**"
      ],
      "metadata": {
        "id": "N-m-1MJXMzo5"
      }
    },
    {
      "cell_type": "code",
      "source": [
        "def evaluate_on_test(model_path, test_dir, class_names, device):\n",
        "    test_transform = transforms.Compose([\n",
        "        transforms.Resize((380, 380)),\n",
        "        transforms.ToTensor(),\n",
        "        transforms.Normalize([0.5], [0.5])\n",
        "    ])\n",
        "\n",
        "    test_dataset = datasets.ImageFolder(root=test_dir, transform=test_transform)\n",
        "    test_loader = DataLoader(test_dataset, batch_size=32, shuffle=False, num_workers=2)\n",
        "\n",
        "    model = EfficientNetB4Classifier(num_classes=len(class_names)).to(device)\n",
        "    model.load_state_dict(torch.load(model_path))\n",
        "    model.eval()\n",
        "\n",
        "    y_true, y_pred = [], []\n",
        "    with torch.no_grad():\n",
        "        for images, labels in test_loader:\n",
        "            images = images.to(device)\n",
        "            outputs = model(images)\n",
        "            preds = torch.argmax(outputs, dim=1).cpu().numpy()\n",
        "            y_pred.extend(preds)\n",
        "            y_true.extend(labels.numpy())\n",
        "\n",
        "    # Evaluation Metrics\n",
        "    acc = accuracy_score(y_true, y_pred)\n",
        "    precision = precision_score(y_true, y_pred, average='binary')\n",
        "    recall = recall_score(y_true, y_pred, average='binary')\n",
        "    f1 = f1_score(y_true, y_pred, average='binary')\n",
        "\n",
        "    print(\"\\n📊 TEST SET EVALUATION RESULTS:\")\n",
        "    print(f\"✅ Accuracy : {acc:.4f}\")\n",
        "    print(f\"🎯 Precision: {precision:.4f}\")\n",
        "    print(f\"🔁 Recall   : {recall:.4f}\")\n",
        "    print(f\"🏅 F1-score : {f1:.4f}\")"
      ],
      "metadata": {
        "id": "O3k8W5hdzP4e"
      },
      "execution_count": 9,
      "outputs": []
    },
    {
      "cell_type": "markdown",
      "source": [
        "# **Run this script to test it**"
      ],
      "metadata": {
        "id": "KMhOZ_JXMoVK"
      }
    },
    {
      "cell_type": "code",
      "source": [
        "evaluate_on_test(\n",
        "    model_path=\"/content/drive/MyDrive/Comys_Hackathon5/Task_A/best_model.pth\",\n",
        "    test_dir=\"/content/drive/MyDrive/Comys_Hackathon5/Task_A/test\",\n",
        "    device=device\n",
        ")"
      ],
      "metadata": {
        "id": "4F1iAT-SMIvP"
      },
      "execution_count": null,
      "outputs": []
    }
  ]
}